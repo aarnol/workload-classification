{
 "cells": [
  {
   "cell_type": "code",
   "execution_count": 2,
   "metadata": {},
   "outputs": [],
   "source": [
    "#imports\n",
    "import scipy.io as sio\n",
    "import numpy as np\n",
    "import matplotlib.pyplot as plt\n",
    "import pandas as pd\n",
    "import sklearn"
   ]
  },
  {
   "cell_type": "code",
   "execution_count": 3,
   "metadata": {},
   "outputs": [
    {
     "data": {
      "text/plain": [
       "23"
      ]
     },
     "execution_count": 3,
     "metadata": {},
     "output_type": "execute_result"
    }
   ],
   "source": [
    "#import the fnirs data\n",
    "import os \n",
    "sampling_rate = 3.8147\n",
    "fnirs_data = sio.loadmat('./data/data.mat')\n",
    "fnirs_data = fnirs_data['structList']\n",
    "len(fnirs_data)"
   ]
  },
  {
   "cell_type": "code",
   "execution_count": 4,
   "metadata": {},
   "outputs": [
    {
     "data": {
      "text/plain": [
       "(11521, 178)"
      ]
     },
     "execution_count": 4,
     "metadata": {},
     "output_type": "execute_result"
    }
   ],
   "source": [
    "fnirs_data[0][0][0][0][1].shape"
   ]
  },
  {
   "cell_type": "code",
   "execution_count": 5,
   "metadata": {},
   "outputs": [
    {
     "data": {
      "text/plain": [
       "23"
      ]
     },
     "execution_count": 5,
     "metadata": {},
     "output_type": "execute_result"
    }
   ],
   "source": [
    "data = []\n",
    "for i in range(len(fnirs_data)):\n",
    "    data.append(fnirs_data[i][0][0][0][1])\n",
    "len(data)"
   ]
  },
  {
   "cell_type": "code",
   "execution_count": 6,
   "metadata": {},
   "outputs": [
    {
     "name": "stdout",
     "output_type": "stream",
     "text": [
      "(362, 3)\n",
      "                            0     1   2\n",
      "0  2024-05-27T16:54:02.533199  1583  30\n",
      "1  2024-05-27T16:54:16.907441  1638  40\n",
      "2  2024-05-27T16:54:26.576106  1675  90\n",
      "3  2024-05-27T16:54:35.683827  1709  20\n",
      "4  2024-05-27T16:54:48.103673  1757  50\n"
     ]
    }
   ],
   "source": [
    "demographics = [\n",
    "    'P07', 'P10', 'P11', 'P13', 'P14', 'P16', 'P17', 'P18', 'P22', 'P23', \n",
    "    'P24', 'P25', 'P26', 'P27', 'P28', 'P29', 'P30', 'P31', 'P32', 'P33', \n",
    "    'P34', 'P35', 'P36'\n",
    "]\n",
    "\n",
    "#load the lsl files\n",
    "timings = []\n",
    "for subject in demographics:\n",
    "    path = os.path.join(\"data\", \"lsl\", subject+\"_lsl.tri\")\n",
    "    timing = pd.read_csv(path, sep=\";\", header=None)\n",
    "    timings.append(timing)\n",
    "print(timings[0].shape)\n",
    "print(timings[0].head())\n"
   ]
  },
  {
   "cell_type": "code",
   "execution_count": 7,
   "metadata": {},
   "outputs": [
    {
     "name": "stdout",
     "output_type": "stream",
     "text": [
      "23\n",
      "23\n",
      "23\n"
     ]
    }
   ],
   "source": [
    "print(len(timings))\n",
    "print(len(data))\n",
    "print(len(demographics))"
   ]
  },
  {
   "cell_type": "code",
   "execution_count": 8,
   "metadata": {},
   "outputs": [],
   "source": [
    "def get_onset(timing, sampling_rate):\n",
    "    timing = timing / sampling_rate\n",
    "    return timing"
   ]
  },
  {
   "cell_type": "code",
   "execution_count": 11,
   "metadata": {},
   "outputs": [
    {
     "name": "stdout",
     "output_type": "stream",
     "text": [
      "(11521, 178)\n"
     ]
    },
    {
     "data": {
      "text/plain": [
       "(178,)"
      ]
     },
     "execution_count": 11,
     "metadata": {},
     "output_type": "execute_result"
    }
   ],
   "source": [
    "#sanity check data\n",
    "\n",
    "P07 = data[0]\n",
    "onsets = timings[0]\n",
    "print(P07.shape)\n",
    "sample = onsets.iloc[0, 1]\n",
    "fnirs_sample = P07[sample]\n",
    "fnirs_sample.shape"
   ]
  }
 ],
 "metadata": {
  "kernelspec": {
   "display_name": "workload",
   "language": "python",
   "name": "python3"
  },
  "language_info": {
   "codemirror_mode": {
    "name": "ipython",
    "version": 3
   },
   "file_extension": ".py",
   "mimetype": "text/x-python",
   "name": "python",
   "nbconvert_exporter": "python",
   "pygments_lexer": "ipython3",
   "version": "3.13.1"
  }
 },
 "nbformat": 4,
 "nbformat_minor": 2
}
